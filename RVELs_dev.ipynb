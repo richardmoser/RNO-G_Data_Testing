{
 "cells": [
  {
   "cell_type": "code",
   "id": "initial_id",
   "metadata": {
    "collapsed": true,
    "ExecuteTime": {
     "end_time": "2025-09-05T14:19:09.147060Z",
     "start_time": "2025-09-05T14:19:07.042985Z"
    }
   },
   "source": [
    "import skrf as rf\n",
    "import matplotlib.pyplot as plt\n",
    "import numpy as np\n",
    "from scipy.ndimage import gaussian_filter1d\n"
   ],
   "outputs": [],
   "execution_count": 1
  },
  {
   "metadata": {
    "ExecuteTime": {
     "end_time": "2025-09-05T14:19:09.167308Z",
     "start_time": "2025-09-05T14:19:09.162896Z"
    }
   },
   "cell_type": "code",
   "source": [
    "# import all the s2p files in Data/Port1inNWhole_Port2inShole_ST35_HPOL_VNA\n",
    "import os\n",
    "import glob\n",
    "path = 'Data/Port1inNWhole_Port2inShole_ST35_HPOL_VNA'\n",
    "s2p_files = glob.glob(os.path.join(path, '*.s2p'))\n",
    "\n",
    "# update = True\n",
    "update = False\n"
   ],
   "id": "c973a60ae4ded780",
   "outputs": [],
   "execution_count": 2
  },
  {
   "metadata": {
    "ExecuteTime": {
     "end_time": "2025-09-05T14:19:10.054443Z",
     "start_time": "2025-09-05T14:19:09.184234Z"
    }
   },
   "cell_type": "code",
   "source": [
    "# Load all s2p files into a list of Network objects\n",
    "networks = [rf.Network(file) for file in s2p_files]\n",
    "# fix the network names so that _1m, _2m,..._9m come before _10m\n",
    "networks = sorted(networks, key=lambda x: (x.name[:-2], int(x.name[-2:]) if x.name[-2:].isdigit() else float('inf')))"
   ],
   "id": "84a18e8922fcf6d4",
   "outputs": [],
   "execution_count": 3
  },
  {
   "metadata": {
    "ExecuteTime": {
     "end_time": "2025-09-05T14:19:10.133581Z",
     "start_time": "2025-09-05T14:19:10.129137Z"
    }
   },
   "cell_type": "code",
   "source": [
    "# plot the S12 parameter for all networks and save the figure as a PNG file named after the file it corresponds to\n",
    "dir = 'My S12/'\n",
    "if update:\n",
    "    for net in networks:\n",
    "        # if net.name == 'Aug4_hpol_down_25m':\n",
    "        # print(net.name)\n",
    "        plt.figure(figsize=(10, 6))\n",
    "        # plt.plot(net.f, 20 * np.log10(np.abs(net.s[:, 1, 0])), label=net.name, linewidth=0.3)\n",
    "        plt.plot(net.f, 10 * np.log10(np.abs(net.s[:, 1, 0])), label=net.name, linewidth=0.3)\n",
    "        plt.title(f'S12 Parameter for {net.name}')\n",
    "        plt.xlabel('Frequency (Hz)')\n",
    "        plt.ylabel('S12 (dB)')\n",
    "        plt.grid()\n",
    "        plt.legend()\n",
    "        plt.savefig(f'{dir}{net.name[5:]}.png', dpi=300, bbox_inches='tight')\n",
    "        # plt.close()"
   ],
   "id": "d9a2543dfa4c8315",
   "outputs": [],
   "execution_count": 4
  },
  {
   "metadata": {},
   "cell_type": "markdown",
   "source": [
    "# Calculate the Friis equation for each network and plot the results\n",
    "### The Friis equation is given by:\n",
    "# $P_r = \\frac{P_t G_t G_r \\lambda^2}{(4 \\pi d)^2}$\n",
    "- $P_r$ is the received power\n",
    "- $P_t$ is the transmitted power\n",
    "    - [ ] what should this be? - placeholder of 1 Watt used\n",
    "- $G_t$ is the gain of the transmitting antenna\n",
    "- $G_r$ is the gain of the receiving antenna\n",
    "- $\\lambda$ is the wavelength\n",
    "- $d$ is the distance between the antennas\n",
    "    - [ ] get from the station json file - placeholder of 1 meter used\n",
    "# $G_i(w) = \\frac{4 \\pi R}{\\lambda} |S_{21}(w)|$\n",
    "- per Mohammad's formulas"
   ],
   "id": "55bf075cdaf77df"
  },
  {
   "metadata": {},
   "cell_type": "markdown",
   "source": "",
   "id": "4857a4559e4a7068"
  },
  {
   "metadata": {
    "ExecuteTime": {
     "end_time": "2025-09-05T14:19:11.500352Z",
     "start_time": "2025-09-05T14:19:10.148294Z"
    }
   },
   "cell_type": "code",
   "source": [
    "# grab all files from both directories\n",
    "HPol_path = 'Data/Port1inNWhole_Port2inShole_ST35_HPOL_VNA'\n",
    "VPol_path = 'Data/Port1inNWhole_Port2inShole_ST35_VPOL_VNA'\n",
    "s2p_files_HPol = glob.glob(os.path.join(HPol_path, '*.s2p'))\n",
    "s2p_files_VPol = glob.glob(os.path.join(VPol_path, '*.s2p'))\n",
    "# Load all s2p files into a single list of Network objects\n",
    "networks = [rf.Network(file) for file in s2p_files_HPol + s2p_files_VPol]\n",
    "networks = sorted(networks, key=lambda x: (x.name[:-2], int(x.name[-2:]) if x.name[-2:].isdigit() else float('inf')))\n",
    "\n",
    "d = 34.63  # Distance according to station json file in meters\n",
    "# TODO: figure out which is the correct distance to use\n",
    "# the json method assumes that the NRMC coord system is in meters and the layour is an equilateral triangle"
   ],
   "id": "6a790fb33b6106ed",
   "outputs": [],
   "execution_count": 5
  },
  {
   "metadata": {
    "ExecuteTime": {
     "end_time": "2025-09-05T14:19:11.538195Z",
     "start_time": "2025-09-05T14:19:11.533768Z"
    }
   },
   "cell_type": "code",
   "source": [
    "dir = 'Gain Plots/'\n",
    "\n",
    "if update:\n",
    "    for net in networks:\n",
    "        # print(net.name)\n",
    "        # if net.name != 'Aug4_hpol_down_25m':\n",
    "        #     continue  # Skip this network for now\n",
    "        plt.figure(figsize=(10, 4))\n",
    "\n",
    "        # calculate the gain of the antenna from the S12 parameter\n",
    "        wavelength = 3e8 / net.f  # Wavelength in meters\n",
    "        G_i = (4 * np.pi * d) / wavelength * np.abs(net.s[:, 1, 0])\n",
    "\n",
    "\n",
    "        smoothed_G_i = gaussian_filter1d(G_i, sigma=20)  # Smooth the gain\n",
    "        # plot the gain\n",
    "        plt.plot(net.f, 10 * np.log10(G_i), label=net.name, linewidth=0.3)\n",
    "        plt.plot(net.f, 10 * np.log10(smoothed_G_i), label=net.name + ' (smoothed)', linewidth=1)\n",
    "        plt.title('Gain of Antenna from S12 Parameter')\n",
    "        plt.xlabel('Frequency (Hz)')\n",
    "        plt.ylabel('Gain (dB)')\n",
    "        plt.grid()\n",
    "        plt.savefig(f'{dir}{net.name[5:]}.png', dpi=300, bbox_inches='tight')\n",
    "        plt.close()"
   ],
   "id": "a7da59f3df8965c4",
   "outputs": [],
   "execution_count": 6
  },
  {
   "metadata": {},
   "cell_type": "markdown",
   "source": "# Gain looks ok, now figure out RVEL",
   "id": "daed2bab37f08568"
  },
  {
   "metadata": {},
   "cell_type": "markdown",
   "source": [
    "# $\\mathcal{H}_i(w) = \\lambda \\sqrt{\\frac{Z_0}{4 \\pi Z_f} G_i(w)}$m\n",
    "- $Z_0$ is 50 Ohms\n",
    "- $Z_f$ is the free space impedance (377 Ohms)\n",
    "- $G_i(w)$ is the gain of the antenna\n"
   ],
   "id": "a4c1c1e165ec73b3"
  },
  {
   "metadata": {
    "ExecuteTime": {
     "end_time": "2025-09-05T14:19:11.556676Z",
     "start_time": "2025-09-05T14:19:11.553215Z"
    }
   },
   "cell_type": "code",
   "source": [
    "# Constants we know\n",
    "Z_f = 377  # Free space impedance in Ohms\n",
    "# n = 1.32  # Refractive index of the medium (Greenland Firn)\n",
    "Z_0 = 50.0  # Characteristic impedance of the antenna in Ohms"
   ],
   "id": "bbe32e0b7607cd9c",
   "outputs": [],
   "execution_count": 7
  },
  {
   "metadata": {
    "ExecuteTime": {
     "end_time": "2025-09-05T14:19:11.565801Z",
     "start_time": "2025-09-05T14:19:11.562636Z"
    }
   },
   "cell_type": "code",
   "source": [
    "def get_RVEL(network, G_i):\n",
    "    wavelength = 3e8 / network.f  # Wavelength in meters\n",
    "    RVEL = wavelength * np.sqrt(((Z_0) / (4 * np.pi * Z_f)) * G_i)  # Antenna impedance calculation\n",
    "\n",
    "    return RVEL"
   ],
   "id": "fbcdb162873ba65b",
   "outputs": [],
   "execution_count": 8
  },
  {
   "metadata": {
    "ExecuteTime": {
     "end_time": "2025-09-05T14:19:12.159635Z",
     "start_time": "2025-09-05T14:19:11.571303Z"
    }
   },
   "cell_type": "code",
   "source": [
    "# load the NuRadioMC VELS data\n",
    "import pickle\n",
    "from NuRadioReco.utilities import units\n",
    "\n",
    "with open('NuRadio_VELS_dict.pkl', 'rb') as f:\n",
    "    NuRadio_VELS_dict = pickle.load(f)"
   ],
   "id": "61a3a1862ca6b395",
   "outputs": [],
   "execution_count": 9
  },
  {
   "metadata": {
    "ExecuteTime": {
     "end_time": "2025-09-05T14:19:12.180685Z",
     "start_time": "2025-09-05T14:19:12.176510Z"
    }
   },
   "cell_type": "code",
   "source": [
    "# print the keys of the NuRadio_VELS_dict\n",
    "for key in NuRadio_VELS_dict.keys():\n",
    "    print(key)"
   ],
   "id": "f25e3ed17824b7ce",
   "outputs": [
    {
     "name": "stdout",
     "output_type": "stream",
     "text": [
      "RNOG vpol 4in center n=1.73\n",
      "RNOG vpol 4in half n=1.73\n",
      "RNOG vpol 4in wall n=1.73\n",
      "RNOG vpol 3.5in center n=1.74\n",
      "RNOG hpol v4.8in center n=1.74\n",
      "RNOG quadslot v2 rescaled fineFreq\n"
     ]
    }
   ],
   "execution_count": 10
  },
  {
   "metadata": {
    "ExecuteTime": {
     "end_time": "2025-09-05T14:19:12.218981Z",
     "start_time": "2025-09-05T14:19:12.214582Z"
    }
   },
   "cell_type": "code",
   "source": [
    "# print the first few theta values from RNOG vpol 4in center n=1.73\n",
    "# print(NuRadio_VELS_dict['RNOG vpol 4in center n=1.73']['theta'][:5])\n",
    "print(NuRadio_VELS_dict['RNOG vpol 3.5in center n=1.74']['theta'][:5])\n",
    "print()\n",
    "print(NuRadio_VELS_dict['RNOG hpol v4.8in center n=1.74']['theta'][:5])\n",
    "\n",
    "# TODO: make plots with the other vpol antenna models"
   ],
   "id": "5fa098818fc5a699",
   "outputs": [
    {
     "name": "stdout",
     "output_type": "stream",
     "text": [
      "[0.04922839-0.01800413j 0.04816964-0.02414938j 0.04554374-0.03008094j\n",
      " 0.04267173-0.03597893j 0.03877754-0.04144695j]\n",
      "\n",
      "[0.+0.j 0.+0.j 0.+0.j 0.+0.j 0.+0.j]\n"
     ]
    }
   ],
   "execution_count": 11
  },
  {
   "metadata": {
    "ExecuteTime": {
     "end_time": "2025-09-05T14:19:12.253276Z",
     "start_time": "2025-09-05T14:19:12.245771Z"
    }
   },
   "cell_type": "code",
   "source": [
    "dir = 'RVEL Plots/'\n",
    "ff = np.linspace(50 * units.MHz, 1 * units.GHz, 1000)\n",
    "RVEL_sigma = 30\n",
    "\n",
    "# update = True\n",
    "\n",
    "if update:\n",
    "    for net in networks:\n",
    "        # if net.name != 'Aug4_hpol_down_25m':\n",
    "        # if net.name != 'Aug4_vpol_down_1m':\n",
    "        #     continue\n",
    "\n",
    "        # print(net.name[5:6])\n",
    "\n",
    "        wavelength = 3e8 / net.f  # Wavelength in meters\n",
    "        G_i = (4 * np.pi * d) / wavelength * np.abs(net.s[:, 1, 0])\n",
    "        RVEL = get_RVEL(net, G_i)\n",
    "        smoothed_RVEL = gaussian_filter1d(RVEL, sigma=RVEL_sigma)  #\n",
    "\n",
    "        plt.figure(figsize=(10, 4))\n",
    "        # plt.plot(net.f, RVEL, label=net.name, linewidth=0.3)\n",
    "        plt.plot(net.f, smoothed_RVEL, label=net.name + ' (smoothed)', linewidth=1)\n",
    "        # plt.plot(ff / units.Hz, NuRadio_VELS['theta'], label='NuRadioMC VELS', linewidth=1)\n",
    "\n",
    "        if net.name[5:6] == 'h':\n",
    "            NuRadio_VELS = NuRadio_VELS_dict['RNOG hpol v4.8in center n=1.74']\n",
    "            plt.plot(ff / units.Hz, np.abs(NuRadio_VELS['phi']), label='NuRadioMC RVELS', linewidth=1)\n",
    "\n",
    "        else:\n",
    "            # NuRadio_VELS = NuRadio_VELS_dict['RNOG vpol 4in center n=1.73']\n",
    "            NuRadio_VELS = NuRadio_VELS_dict['RNOG vpol 3.5in center n=1.74']\n",
    "            plt.plot(ff / units.Hz, np.abs(NuRadio_VELS['theta']), label='NuRadioMC RVELS', linewidth=1)\n",
    "\n",
    "\n",
    "        plt.title(f'RVEL for {net.name}')\n",
    "        plt.xlabel('Frequency (Hz)')\n",
    "        # plt.xlim(.08e9, 1e9)\n",
    "        plt.ylabel('RVEL (m)')\n",
    "        # plt.ylim(0, 0.2)  # Set y-axis limits to focus on the RVEL\n",
    "\n",
    "\n",
    "        plt.grid()\n",
    "        plt.legend()\n",
    "        plt.savefig(f'{dir}{net.name[5:]}_RVEL.png', dpi=300, bbox_inches='tight')\n",
    "        plt.close()\n",
    "\n",
    "        plt.figure(figsize=(10, 4))\n",
    "        # plt.figure(figsize=(8, 6))\n",
    "\n",
    "        # plt.plot(net.f, RVEL, label=net.name, linewidth=0.3)\n",
    "        plt.plot(net.f, RVEL, label=net.name + ' RVEL', linewidth=0.5)\n",
    "        plt.plot(net.f, smoothed_RVEL, label=net.name + ' RVEL (smoothed)', linewidth=1, color='red')\n",
    "        # plt.plot(ff / units.Hz, NuRadio_VELS['theta'], label='NuRadioMC VELS', linewidth=1)\n",
    "\n",
    "        if net.name[5:6] == 'h':\n",
    "            NuRadio_VELS = NuRadio_VELS_dict['RNOG hpol v4.8in center n=1.74']\n",
    "            plt.plot(ff / units.Hz, np.abs(NuRadio_VELS['phi']), label='NuRadioMC RVELS', linewidth=1)\n",
    "\n",
    "        else:\n",
    "            # NuRadio_VELS = NuRadio_VELS_dict['RNOG vpol 4in center n=1.73']\n",
    "            NuRadio_VELS = NuRadio_VELS_dict['RNOG vpol 3.5in center n=1.74']\n",
    "            plt.plot(ff / units.Hz, np.abs(NuRadio_VELS['theta']), label='NuRadioMC RVELS', linewidth=1)\n",
    "\n",
    "        if 'hpol' in net.name:\n",
    "            plt.ylim(0, 0.12)  # Set y-axis limits to focus on the RVEL\n",
    "        if 'vpol' in net.name:\n",
    "            plt.ylim(0, 0.25)  # Set y-axis limits to focus on the RVEL\n",
    "\n",
    "        plt.title(f'RVEL for {net.name}')\n",
    "        plt.xlabel('Frequency (Hz)')\n",
    "        # plt.xlim(.08e9, 1e9)\n",
    "        plt.ylabel('RVEL (m)')\n",
    "        # plt.ylim(0, 0.25)  # Set y-axis limits to focus on the RVEL\n",
    "        plt.grid()\n",
    "        plt.legend()\n",
    "        plt.savefig(f'{dir}{net.name[5:]}_RVEL_zoomed.png', dpi=300, bbox_inches='tight')\n",
    "        # plt.savefig(f'{dir}{net.name[5:]}_RVEL_zoomed_4x3.png', dpi=300, bbox_inches='tight')\n",
    "\n",
    "        plt.close()\n"
   ],
   "id": "c07687de54d75196",
   "outputs": [],
   "execution_count": 12
  },
  {
   "metadata": {
    "ExecuteTime": {
     "end_time": "2025-09-05T14:19:12.279416Z",
     "start_time": "2025-09-05T14:19:12.275537Z"
    }
   },
   "cell_type": "code",
   "source": [
    "# dir = 'Tri Plots'\n",
    "#\n",
    "# for net in networks:\n",
    "#     # if net.name != 'Aug4_hpol_down_25m':\n",
    "#     #     continue\n",
    "#     # continue  # Skip this network for now\n",
    "#     print(f'Plotting for {net.name}')\n",
    "#     wavelength = 3e8 / net.f\n",
    "#     S_12 = np.abs(net.s[:, 1, 0])\n",
    "#     smoothed_S_12 = gaussian_filter1d(S_12, sigma=RVEL_sigma)\n",
    "#     G_i = (4 * np.pi * d) / wavelength * S_12\n",
    "#     smoothed_G_i = gaussian_filter1d(G_i, sigma=RVEL_sigma)\n",
    "#     RVEL = get_RVEL(net, G_i)\n",
    "#     smoothed_RVEL = gaussian_filter1d(RVEL, sigma=RVEL_sigma)\n",
    "#\n",
    "#     # make three subplots in one figure\n",
    "#     fig, axs = plt.subplots(3, 1, figsize=(10, 10))\n",
    "#     plt.suptitle(f'Data for {net.name}')\n",
    "#     axs[0].plot(net.f, 10 * np.log10(smoothed_S_12), label=net.name + ' S12 (smoothed)', linewidth=1)\n",
    "#     axs[0].set_title('S12 Parameter')\n",
    "#     # axs[0].set_xlabel('Frequency (Hz)')\n",
    "#     axs[0].set_ylabel('S12 (dB)')\n",
    "#     axs[0].set_ylim(-45, -20)  # Set y-axis limits to focus on the S12 parameter\n",
    "#     axs[0].grid()\n",
    "#     axs[0].legend()\n",
    "#\n",
    "#     axs[1].plot(net.f, 10 * np.log10(smoothed_G_i), label=net.name + ' Gain (smoothed)', linewidth=1)\n",
    "#     axs[1].set_title('Gain of Antenna from S12 Parameter')\n",
    "#     # axs[1].set_xlabel('Frequency (Hz)')\n",
    "#     axs[1].set_ylabel('Gain (dB)')\n",
    "#     axs[1].set_ylim(-20, 6)\n",
    "#     axs[1].grid()\n",
    "#     axs[1].legend()\n",
    "#     # print(f\"max gain for {net.name}: {np.max(10 * np.log10(smoothed_G_i)):.2f} dB\")\n",
    "#\n",
    "#     axs[2].plot(net.f, smoothed_RVEL, label=net.name + ' RVEL (smoothed)', linewidth=1)\n",
    "#     axs[2].set_title('RVEL')\n",
    "#     axs[2].set_xlabel('Frequency (Hz)')\n",
    "#     axs[2].set_ylabel('RVEL (m)')\n",
    "#     axs[2].set_ylim(0, 0.85)  # Set y-axis limits to focus on the RVEL\n",
    "#     axs[2].grid()\n",
    "#     axs[2].legend()\n",
    "#     plt.tight_layout()\n",
    "#     plt.savefig(f'{dir}/{net.name[5:]}_tri_plot.png', dpi=300, bbox_inches='tight')\n",
    "#     plt.close(fig)"
   ],
   "id": "3d67aab3a366fc32",
   "outputs": [],
   "execution_count": 13
  },
  {
   "metadata": {
    "ExecuteTime": {
     "end_time": "2025-09-05T14:19:12.396470Z",
     "start_time": "2025-09-05T14:19:12.286128Z"
    }
   },
   "cell_type": "code",
   "source": [
    "\n",
    "ff = np.linspace(50 * units.MHz, 1 * units.GHz, 1000)\n",
    "\n",
    "# sort the networks by name\n",
    "# networks = sorted(networks, key=lambda x: x.name)\n",
    "num_networks = len(networks)\n",
    "print(f'Number of networks: {num_networks}')\n",
    "\n",
    "hpol_down_networks = [net for net in networks if 'hpol_down' in net.name]\n",
    "hpol_up_networks = [net for net in networks if 'hpol_up' in net.name]\n",
    "vpol_networks = [net for net in networks if 'vpol' in net.name]\n",
    "\n",
    "print(len(hpol_down_networks), len(vpol_networks))\n",
    "\n",
    "# make an array of the networks that are hpol down, their name, wavelength, Gain, and RVEL\n",
    "hpol_down = []\n",
    "RVEL_sigma = 30\n",
    "\n",
    "for i, net in enumerate(hpol_down_networks):\n",
    "    # print(f'Plotting for {net.name}')\n",
    "    wavelength = 3e8 / net.f\n",
    "    S_12 = np.abs(net.s[:, 1, 0])\n",
    "    smoothed_S_12 = gaussian_filter1d(S_12, sigma=RVEL_sigma)\n",
    "    G_i = (4 * np.pi * d) / wavelength * S_12\n",
    "    smoothed_G_i = gaussian_filter1d(G_i, sigma=RVEL_sigma)\n",
    "    RVEL = get_RVEL(net, G_i)\n",
    "    smoothed_RVEL = gaussian_filter1d(RVEL, sigma=RVEL_sigma)\n",
    "    hpol_down.append({\n",
    "        'name': net.name,\n",
    "        'frequency': net.f,\n",
    "        'wavelength': wavelength,\n",
    "        'S_12': S_12,\n",
    "        'smoothed_S_12': smoothed_S_12,\n",
    "        'G_i': G_i,\n",
    "        'smoothed_G_i': smoothed_G_i,\n",
    "        'RVEL': RVEL,\n",
    "        'smoothed_RVEL': smoothed_RVEL\n",
    "    })\n",
    "\n",
    "hpol_up = []\n",
    "for i, net in enumerate(hpol_up_networks):\n",
    "    # print(f'Plotting for {net.name}')\n",
    "    wavelength = 3e8 / net.f\n",
    "    S_12 = np.abs(net.s[:, 1, 0])\n",
    "    smoothed_S_12 = gaussian_filter1d(S_12, sigma=RVEL_sigma)\n",
    "    G_i = (4 * np.pi * d) / wavelength * S_12\n",
    "    smoothed_G_i = gaussian_filter1d(G_i, sigma=RVEL_sigma)\n",
    "    RVEL = get_RVEL(net, G_i)\n",
    "    smoothed_RVEL = gaussian_filter1d(RVEL, sigma=RVEL_sigma)\n",
    "    hpol_up.append({\n",
    "        'name': net.name,\n",
    "        'frequency': net.f,\n",
    "        'wavelength': wavelength,\n",
    "        'S_12': S_12,\n",
    "        'smoothed_S_12': smoothed_S_12,\n",
    "        'G_i': G_i,\n",
    "        'smoothed_G_i': smoothed_G_i,\n",
    "        'RVEL': RVEL,\n",
    "        'smoothed_RVEL': smoothed_RVEL\n",
    "    })\n",
    "\n",
    "vpol = []\n",
    "for i, net in enumerate(vpol_networks):\n",
    "    # print(f'Plotting for {net.name}')\n",
    "    wavelength = 3e8 / net.f\n",
    "    S_12 = np.abs(net.s[:, 1, 0])\n",
    "    smoothed_S_12 = gaussian_filter1d(S_12, sigma=RVEL_sigma)\n",
    "    G_i = (4 * np.pi * d) / wavelength * S_12\n",
    "    smoothed_G_i = gaussian_filter1d(G_i, sigma=RVEL_sigma)\n",
    "    RVEL = get_RVEL(net, G_i)\n",
    "    smoothed_RVEL = gaussian_filter1d(RVEL, sigma=RVEL_sigma)\n",
    "    vpol.append({\n",
    "        'name': net.name,\n",
    "        'frequency': net.f,\n",
    "        'wavelength': wavelength,\n",
    "        'S_12': S_12,\n",
    "        'smoothed_S_12': smoothed_S_12,\n",
    "        'G_i': G_i,\n",
    "        'smoothed_G_i': smoothed_G_i,\n",
    "        'RVEL': RVEL,\n",
    "        'smoothed_RVEL': smoothed_RVEL\n",
    "    })\n",
    "\n",
    "\n",
    "# print the first three names of the hpol_down networks\n",
    "for net in hpol_down_networks[:3]:\n",
    "    print(net.name)"
   ],
   "id": "2c2fa61fcd14b0ad",
   "outputs": [
    {
     "name": "stdout",
     "output_type": "stream",
     "text": [
      "Number of networks: 99\n",
      "51 37\n",
      "Aug4_hpol_down_1m\n",
      "Aug4_hpol_down_2m\n",
      "Aug4_hpol_down_3m\n"
     ]
    }
   ],
   "execution_count": 14
  },
  {
   "metadata": {
    "ExecuteTime": {
     "end_time": "2025-09-05T14:23:34.451594Z",
     "start_time": "2025-09-05T14:23:34.430099Z"
    }
   },
   "cell_type": "code",
   "source": [
    "# export the vpol network to a pickle file\n",
    "import pickle\n",
    "with open('Aug4_vpol_down_network.pkl', 'wb') as f:\n",
    "    pickle.dump(vpol_networks, f)\n",
    "\n",
    "# add a text file detailing the data format\n",
    "with open('Aug4_vpol_down_network_README.txt', 'w') as f:\n",
    "    f.write('This pickle file contains a list of skrf Network objects for the Aug4 vpol down networks.\\n')\n",
    "    f.write('Each Network object contains the S-parameters and frequency data for the corresponding s2p file.\\n')\n",
    "    f.write('The networks are sorted by name.\\n')\n",
    "    f.close()"
   ],
   "id": "1449b966e34b4514",
   "outputs": [],
   "execution_count": 24
  },
  {
   "metadata": {
    "ExecuteTime": {
     "end_time": "2025-09-05T14:25:15.240702Z",
     "start_time": "2025-09-05T14:25:15.226587Z"
    }
   },
   "cell_type": "code",
   "source": [
    "# as a test, read the pickle file back in and print the names of the networks\n",
    "with open('Aug4_vpol_down_network.pkl', 'rb') as f:\n",
    "    vpol_networks_test = pickle.load(f)\n",
    "# for net in vpol_networks_test:\n",
    "#     print(net.name)\n",
    "# print the content of the first network\n",
    "print(vpol_networks_test[0])\n",
    "# print the keys of the first network\n",
    "print(vpol_networks_test[0].__dict__.keys())"
   ],
   "id": "339593e9c737f33c",
   "outputs": [
    {
     "name": "stdout",
     "output_type": "stream",
     "text": [
      "2-Port Network: 'Aug4_vpol_down_1m',  2000000.0-1000000000.0 Hz, 4001 pts, z0=[50.+0.j 50.+0.j]\n",
      "dict_keys(['noise_interp_kind', 'noise_fill_value', 'name', 'params', 'comments', 'port_names', 'encoding', 'deembed', 'noise', 'noise_freq', '_z0', '_port_modes', '_ext_attrs', 's_def', 'comments_after_option_line', 'variables', '_s', '_frequency', 'gamma'])\n"
     ]
    }
   ],
   "execution_count": 30
  },
  {
   "metadata": {},
   "cell_type": "code",
   "outputs": [],
   "execution_count": null,
   "source": "",
   "id": "d3bd6639da112926"
  },
  {
   "metadata": {
    "ExecuteTime": {
     "end_time": "2025-09-05T14:19:21.259625Z",
     "start_time": "2025-09-05T14:19:12.415304Z"
    }
   },
   "cell_type": "code",
   "source": [
    "# plot each of the 50 hpol down files in a column of subplots\n",
    "dir = 'RVEL Plots'\n",
    "\n",
    "smoothing = False\n",
    "\n",
    "network_list = hpol_down\n",
    "network_list = hpol_up\n",
    "network_list = vpol\n",
    "\n",
    "vpol_peaks = []\n",
    "\n",
    "if not update:\n",
    "    fig, axs = plt.subplots(len(network_list), 1, figsize=(10, 3 * len(network_list)), sharex=True)\n",
    "    for i, net in enumerate(network_list):\n",
    "        name = net['name'][5:]  # remove the Aug4_ part of the name\n",
    "        # print(f'Plotting for {name}')\n",
    "        if not smoothing:\n",
    "            axs[i].plot(net['frequency'], net['RVEL'], label=net['name'] + ' RVEL', linewidth=1)\n",
    "\n",
    "        axs[i].plot(net['frequency'], net['smoothed_RVEL'], label=net['name'] + ' RVEL (smoothed)', linewidth=1, color='red')\n",
    "        # else:\n",
    "        # plot the NuRadioMC RVELs\n",
    "        if 'hpol' in name:\n",
    "            NuRadio_VELS = NuRadio_VELS_dict['RNOG hpol v4.8in center n=1.74']\n",
    "            axs[i].plot(ff / units.Hz, np.abs(NuRadio_VELS['phi']), label='NuRadioMC RVELS', linewidth=1)\n",
    "        if 'vpol'  in name:\n",
    "            NuRadio_VELS = NuRadio_VELS_dict['RNOG vpol 4in center n=1.73']\n",
    "            axs[i].plot(ff / units.Hz, np.abs(NuRadio_VELS['theta']), label='NuRadioMC RVELS', linewidth=1)\n",
    "            # find the peak VNA RVEL above 100 MHz and draw a vertical line there with a label for the frequency\n",
    "            peak_index = np.argmax(net['smoothed_RVEL'][net['frequency'] >= 100e6])\n",
    "            peak_freq = net['frequency'][net['frequency'] >= 100e6][peak_index]\n",
    "            peak_RVEL = net['smoothed_RVEL'][net['frequency'] >= 100e6][peak_index]\n",
    "            axs[i].axvline(peak_freq, color='blue', linestyle='--', label=f'Peak VNA RVEL at {peak_freq/1e6:.1f} MHz', alpha=0.3)\n",
    "            vpol_peaks.append((name, peak_freq, peak_RVEL))\n",
    "\n",
    "            # find the peak NuRadio RVEL above 100 MHz and draw a vertical line there with a label for the frequency\n",
    "            peak_index_nu = np.argmax(np.abs(NuRadio_VELS['theta'][ff >= 100 * units.MHz]))\n",
    "            peak_freq_nu = ff[ff >= 100 * units.MHz][peak_index_nu] / units.Hz\n",
    "            peak_RVEL_nu = np.abs(NuRadio_VELS['theta'][ff >= 100 * units.MHz][peak_index_nu])\n",
    "            axs[i].axvline(peak_freq_nu, color='orange', linestyle='--', label=f'Peak NuRadio RVEL at {peak_freq_nu/1e6:.1f} MHz', alpha=0.7)\n",
    "\n",
    "\n",
    "\n",
    "        axs[i].set_title(f'RVEL for {name}')\n",
    "        # set the x axis ticks to be every 100 MHz starting at 100 MHz and ending at 1 GHz\n",
    "        axs[i].xaxis.set_major_locator(plt.MultipleLocator(100e6))\n",
    "        axs[i].set_xlim(0, 1e9)\n",
    "        # draw the x axis numerical labels in each subplot\n",
    "        axs[i].set_xlabel('Frequency (Hz)')\n",
    "        axs[i].set_ylabel('RVEL (m)')\n",
    "        axs[i].tick_params(axis='x', which='both', labelbottom=True)\n",
    "        if 'hpol' in name:\n",
    "            axs[i].set_ylim(0, 0.12)  # Set y-axis limits to focus on the RVEL\n",
    "        if 'vpol' in name:\n",
    "            axs[i].set_ylim(0, 0.25)  # Set y-axis limits to focus on the RVEL\n",
    "        axs[i].grid()\n",
    "        axs[i].legend()\n",
    "\n",
    "    # axs[-1].set_xlabel('Frequency (Hz)')\n",
    "    plt.tight_layout()\n",
    "    if smoothing:\n",
    "        plt.savefig(f'{dir}/all {name[:-4]}_RVEL_smoothed.png', dpi=300, bbox_inches='tight')\n",
    "        # plt.savefig(f'{dir}/all {name[:-4]}_RVEL_smoothed.pdf', dpi=300, bbox_inches='tight')\n",
    "    else:\n",
    "        plt.savefig(f'{dir}/all {name[:-4]}_RVEL.png', dpi=300, bbox_inches='tight')\n",
    "        # plt.savefig(f'{dir}/all {name[:-4]}_RVEL.pdf', dpi=300, bbox_inches='tight')\n",
    "    plt.close()"
   ],
   "id": "e0ea0614e1cb0b40",
   "outputs": [],
   "execution_count": 15
  },
  {
   "metadata": {
    "ExecuteTime": {
     "end_time": "2025-09-05T14:19:21.650733Z",
     "start_time": "2025-09-05T14:19:21.293809Z"
    }
   },
   "cell_type": "code",
   "source": [
    "# plot how the peak VNA frequency changes with depth for vpol\n",
    "depths = [int(peak[0].split('_')[-1][:-1]) for peak in vpol_peaks]  # get the depths in meters as integers\n",
    "peak_freqs = [peak[1] for peak in vpol_peaks]\n",
    "peak_RVELs = [peak[2] for peak in vpol_peaks]\n",
    "plt.figure(figsize=(10, 6))\n",
    "\n",
    "#plot a line at the NuRadio peak frequency, 149.8 MHz\n",
    "plt.axhline(149.8, color='orange', linestyle='-', label='NuRadioMC Peak Frequency (149.8 MHz)', alpha=1, linewidth=2)\n",
    "\n",
    "plt.plot(depths, np.array(peak_freqs) / 1e6, label='Peak VNA RVEL Frequency', marker='o')\n",
    "\n",
    "# fit a curve to the data\n",
    "z = np.polyfit(depths, np.array(peak_freqs) / 1e6, 1)\n",
    "p = np.poly1d(z)\n",
    "plt.plot(depths, p(depths), \"r--\", label=f'Fit: y={z[0]:.2f}x + {z[1]:.2f}')\n",
    "\n",
    "z2 = np.polyfit(depths, np.array(peak_freqs) / 1e6, 2)\n",
    "p2 = np.poly1d(z2)\n",
    "plt.plot(depths, p2(depths), \"g--\", label=f'Fit: y={z2[0]:.4f}x^2 + {z2[1]:.2f}x + {z2[2]:.2f}')\n",
    "\n",
    "plt.title('Peak VNA RVEL Frequency vs Depth\\nVPol Down')\n",
    "plt.xlabel('Depth (m)')\n",
    "plt.ylabel('Peak VNA RVEL Frequency (MHz)')\n",
    "plt.ylim(140, 220)\n",
    "plt.grid()\n",
    "plt.legend()\n",
    "plt.savefig(f'{dir}/peak VNA RVEL frequency vs depth - vpol_down.png', dpi=300, bbox_inches='tight')\n",
    "\n",
    "#TODO: see if there's a better way to calculate the peak frequency, there is probably some error introduced by smoothing"
   ],
   "id": "90533d9e03563526",
   "outputs": [
    {
     "data": {
      "text/plain": [
       "<Figure size 1000x600 with 1 Axes>"
      ],
      "image/png": "[encoded data removed]"
     },
     "metadata": {},
     "output_type": "display_data"
    }
   ],
   "execution_count": 16
  },
  {
   "metadata": {
    "ExecuteTime": {
     "end_time": "2025-09-05T14:19:21.660708Z",
     "start_time": "2025-09-05T14:19:21.658825Z"
    }
   },
   "cell_type": "code",
   "source": "",
   "id": "b614b02f042a8044",
   "outputs": [],
   "execution_count": null
  },
  {
   "metadata": {
    "ExecuteTime": {
     "end_time": "2025-09-05T14:19:21.680611Z",
     "start_time": "2025-09-05T14:19:21.675613Z"
    }
   },
   "cell_type": "code",
   "source": [
    "# for the hpol down, plot every 5th RVEL on the same plot for comparison\n",
    "dir = 'RVEL Plots'\n",
    "\n",
    "# use the plasma perceptually uniform sequential colormap\n",
    "cmap = plt.get_cmap('cividis')\n",
    "\n",
    "if update:\n",
    "    plt.figure(figsize=(10, 6))\n",
    "    # plot the NuRadioMC RVELs\n",
    "    NuRadio_VELS = NuRadio_VELS_dict['RNOG hpol v4.8in center n=1.74']\n",
    "    plt.plot(ff / units.Hz, np.abs(NuRadio_VELS['phi']), label='NuRadioMC RVELS', linewidth=1, color='r', linestyle='--')\n",
    "\n",
    "    for i, net in enumerate(hpol_down[::5]):  # plot every 5th network\n",
    "        name = net['name'][5:]  # remove the Aug4_ part of the name\n",
    "        color = cmap(i / (len(hpol_down) / 5))  # get a color from the colormap\n",
    "        plt.plot(net['frequency'], net['smoothed_RVEL'], label=name, linewidth=1, color=color)\n",
    "\n",
    "\n",
    "    plt.title('RVEL for HPol Down Antennas')\n",
    "    plt.xlabel('Frequency (Hz)')\n",
    "    plt.ylabel('RVEL (m)')\n",
    "    plt.xlim(0, 1e9)\n",
    "    plt.ylim(0, 0.12)  # Set y-axis limits to focus on the RVEL\n",
    "    plt.grid()\n",
    "    plt.legend()\n",
    "    plt.savefig(f'{dir}/selected hpol down_RVEL.png', dpi=300, bbox_inches='tight')\n",
    "    # plt.close()"
   ],
   "id": "c53b1acd30b51219",
   "outputs": [],
   "execution_count": 17
  },
  {
   "metadata": {
    "ExecuteTime": {
     "end_time": "2025-09-05T14:19:21.703102Z",
     "start_time": "2025-09-05T14:19:21.686569Z"
    }
   },
   "cell_type": "code",
   "source": [
    "# do the same for vpol including the peak frequency markers\n",
    "dir = 'RVEL Plots'\n",
    "cmap = plt.get_cmap('cividis')\n",
    "\n",
    "if update:\n",
    "    plt.figure(figsize=(10, 6))\n",
    "    # plot the NuRadioMC RVELs\n",
    "    NuRadio_VELS = NuRadio_VELS_dict['RNOG vpol 4in center n=1.73']\n",
    "    plt.plot(ff / units.Hz, np.abs(NuRadio_VELS['theta']), label='NuRadioMC RVELS', linewidth=1, color='r', linestyle='--')\n",
    "\n",
    "    for i, net in enumerate(vpol[::5]):  # plot every 2nd network\n",
    "        name = net['name'][5:]  # remove the Aug4_ part of the name\n",
    "        color = cmap(i / (len(vpol) / 5))  # get a color from the colormap\n",
    "        plt.plot(net['frequency'], net['smoothed_RVEL'], label=name, linewidth=1, color=color)\n",
    "\n",
    "        # find the peak VNA RVEL above 100 MHz and draw a vertical line there with a label for the frequency\n",
    "        peak_index = np.argmax(net['smoothed_RVEL'][net['frequency'] >= 100e6])\n",
    "        peak_freq = net['frequency'][net['frequency'] >= 100e6][peak_index]\n",
    "        peak_RVEL = net['smoothed_RVEL'][net['frequency'] >= 100e6][peak_index]\n",
    "        # plt.axvline(peak_freq, color=color, linestyle='--', alpha=0.3)\n",
    "        # plt.text(peak_freq + 10e6, peak_RVEL + 0.005, f'{peak_freq/1e6:.1f} MHz', rotation=90, color=color, alpha=0.7)\n",
    "\n",
    "    # find the peak NuRadio RVEL above 100 MHz and draw a vertical line there with a label for the frequency\n",
    "    peak_index_nu = np.argmax(np.abs(NuRadio_VELS['theta'][ff >= 100 * units.MHz]))\n",
    "    peak_freq_nu = ff[ff >= 100 * units.MHz][peak_index_nu] / units.Hz\n",
    "    peak_RVEL_nu = np.abs(NuRadio_VELS['theta'][ff >= 100 * units.MHz][peak_index_nu])\n",
    "    plt.axvline(peak_freq_nu, color='red', linestyle='--', alpha=0.7)\n",
    "    plt.text(peak_freq_nu - 5.25e6, peak_RVEL_nu + 0.02, f'Simulated Peak\\n\\n     {peak_freq_nu/1e6:.1f} MHz', rotation=90, color='red', alpha=0.7)\n",
    "    plt.title('RVEL for VPol Down Antennas')\n",
    "    plt.xlabel('Frequency (Hz)')\n",
    "    plt.ylabel('RVEL (m)')\n",
    "    plt.xlim(0.05e9, 0.25e9)\n",
    "    plt.ylim(0, 0.25)  # Set y-axis limits to focus on the RVEL\n",
    "    plt.grid()\n",
    "    plt.legend()\n",
    "    plt.savefig(f'{dir}/selected vpol down_RVEL.png', dpi=300, bbox_inches='tight')\n",
    "    plt.close()"
   ],
   "id": "a9c35b135f8f7e4b",
   "outputs": [],
   "execution_count": 18
  },
  {
   "metadata": {
    "ExecuteTime": {
     "end_time": "2025-09-05T14:19:21.711329Z",
     "start_time": "2025-09-05T14:19:21.709325Z"
    }
   },
   "cell_type": "code",
   "source": "",
   "id": "2d8c2c0c9b37b8b2",
   "outputs": [],
   "execution_count": null
  },
  {
   "metadata": {
    "ExecuteTime": {
     "end_time": "2025-09-05T14:19:21.721365Z",
     "start_time": "2025-09-05T14:19:21.718136Z"
    }
   },
   "cell_type": "code",
   "source": [
    "# calculate the full width half max for each of the vpol NuRadioMC RVELS\n",
    "# this is the frequency range where the RVEL is greater than half the maximum RVEL\n",
    "# it is calculated for each depth, not the maximum of all depths\n",
    "\n",
    "\n",
    "\n"
   ],
   "id": "d518bd66f6beeb4b",
   "outputs": [],
   "execution_count": 19
  },
  {
   "metadata": {
    "ExecuteTime": {
     "end_time": "2025-09-05T14:19:21.739683Z",
     "start_time": "2025-09-05T14:19:21.737249Z"
    }
   },
   "cell_type": "code",
   "source": "",
   "id": "3acd009ca60ba3d3",
   "outputs": [],
   "execution_count": null
  },
  {
   "metadata": {
    "ExecuteTime": {
     "end_time": "2025-09-05T14:19:21.751682Z",
     "start_time": "2025-09-05T14:19:21.745184Z"
    }
   },
   "cell_type": "code",
   "source": [
    "# TODO: do a 2 column plot showing hpol up and down side by side for comparison\n",
    "dir = 'RVEL Plots'\n",
    "\n",
    "if update:\n",
    "    # create a subplot 2 columns wide and len(hpol_up) rows tall\n",
    "    fig, axs = plt.subplots(len(hpol_up)-1, 2, figsize=(15, 3 * len(hpol_up)), sharex=True)\n",
    "    for i in range(0, len(hpol_up) - 1):\n",
    "        net_up = hpol_up[i + 1]\n",
    "        net_down = hpol_down[i]\n",
    "        name_down = net_down['name'][5:]  # remove the Aug4_ part of the name\n",
    "        name_up = net_up['name'][5:]  # remove the Aug4_ part of the name\n",
    "\n",
    "        # print(f'i: {i}, name_down: {name_down}, name_up: {name_up}')\n",
    "\n",
    "        # print(f'Plotting for {name_down} and {name_up}')\n",
    "        axs[i, 0].plot(net_down['frequency'], net_down['smoothed_RVEL'], label=net_down['name'] + ' RVEL (smoothed)', linewidth=1, color='red')\n",
    "        axs[i, 1].plot(net_up['frequency'], net_up['smoothed_RVEL'], label=net_up['name'] + ' RVEL (smoothed)', linewidth=1, color='red')\n",
    "        # plot the NuRadioMC RVELs\n",
    "        NuRadio_VELS = NuRadio_VELS_dict['RNOG hpol v4.8in center n=1.74']\n",
    "        axs[i, 0].plot(ff / units.Hz, np.abs(NuRadio_VELS['phi']), label='NuRadioMC RVELS', linewidth=1)\n",
    "        axs[i, 1].plot(ff / units.Hz, np.abs(NuRadio_VELS['phi']), label='NuRadioMC RVELS', linewidth=1)\n",
    "        axs[i, 0].set_title(f'RVEL for {name_down}')\n",
    "        axs[i, 1].set_title(f'RVEL for {name_up}')\n",
    "        # set the x axis ticks to be every 100 MHz starting at 100 MHz and ending at 1 GHz\n",
    "        axs[i, 0].xaxis.set_major_locator(plt.MultipleLocator(100e6))\n",
    "        axs[i, 0].set_xlim(0, 1e9)\n",
    "        axs[i, 1].set_xlim(0, 1e9)\n",
    "        # draw the x axis numerical labels in each subplot\n",
    "        axs[i, 0].set_xlabel('Frequency (Hz)')\n",
    "        axs[i, 1].set_xlabel('Frequency (Hz)')\n",
    "        axs[i, 0].set_ylabel('RVEL (m)')\n",
    "        axs[i, 1].set_ylabel('RVEL (m)')\n",
    "        axs[i, 0].tick_params(axis='x', which='both', labelbottom=True)\n",
    "        axs[i, 1].tick_params(axis='x', which='both', labelbottom=True)\n",
    "        axs[i, 0].set_ylim(0, 0.12)  # Set y-axis limits to focus on the RVEL\n",
    "        axs[i, 1].set_ylim(0, 0.12)  # Set y-axis limits to focus on the RVEL\n",
    "        axs[i, 0].grid()\n",
    "        axs[i, 1].grid()\n",
    "        axs[i, 0].legend()\n",
    "        axs[i, 1].legend()\n",
    "    plt.tight_layout()\n",
    "    plt.savefig(f'{dir}/all hpol up vs down_RVEL.png', dpi=300, bbox_inches='tight')\n",
    "    plt.close()"
   ],
   "id": "954db5af287dfc7b",
   "outputs": [],
   "execution_count": 20
  },
  {
   "metadata": {
    "ExecuteTime": {
     "end_time": "2025-09-05T14:19:21.763572Z",
     "start_time": "2025-09-05T14:19:21.757730Z"
    }
   },
   "cell_type": "code",
   "source": [
    "# do the above but plot them on top of each other for comparison\n",
    "\n",
    "if update:\n",
    "    # create a subplot 1 column wide and len(hpol_up) rows tall\n",
    "    fig, axs = plt.subplots(len(hpol_up)-1, 1, figsize=(10, 3 * len(hpol_up)), sharex=True)\n",
    "    for i in range(0, len(hpol_up) - 1):\n",
    "        net_up = hpol_up[i + 1]\n",
    "        net_down = hpol_down[i]\n",
    "        name_down = net_down['name'][5:]  # remove the Aug4_ part of the name\n",
    "        name_up = net_up['name'][5:]  # remove the Aug4_ part of the name\n",
    "\n",
    "        # print(f'i: {i}, name_down: {name_down}, name_up: {name_up}')\n",
    "\n",
    "        # print(f'Plotting for {name_down} and {name_up}')\n",
    "        axs[i].plot(net_down['frequency'], net_down['smoothed_RVEL'], label=net_down['name'] + ' RVEL Down (smoothed)', linewidth=1, color='red')\n",
    "        axs[i].plot(net_up['frequency'], net_up['smoothed_RVEL'], label=net_up['name'] + ' RVEL Up (smoothed)', linewidth=1, color='blue')\n",
    "        # plot the NuRadioMC RVELs\n",
    "        NuRadio_VELS = NuRadio_VELS_dict['RNOG hpol v4.8in center n=1.74']\n",
    "        axs[i].plot(ff / units.Hz, np.abs(NuRadio_VELS['phi']), label='NuRadioMC RVELS', linewidth=1)\n",
    "        axs[i].set_title(f'RVEL for {name_down} and {name_up}')\n",
    "        # set the x axis ticks to be every 100 MHz starting at 100 MHz and ending at 1 GHz\n",
    "        axs[i].xaxis.set_major_locator(plt.MultipleLocator(100e6))\n",
    "        axs[i].set_xlim(0, 1e9)\n",
    "        # draw the x axis numerical labels in each subplot\n",
    "        axs[i].set_xlabel('Frequency (Hz)')\n",
    "        axs[i].set_ylabel('RVEL (m)')\n",
    "        axs[i].tick_params(axis='x', which='both', labelbottom=True)\n",
    "        axs[i].set_ylim(0, 0.12)  # Set y-axis limits to focus on the RVEL\n",
    "        axs[i].grid()\n",
    "        axs[i].legend()\n",
    "    plt.tight_layout()\n",
    "    plt.savefig(f'{dir}/all hpol up vs down_RVEL_overlay.png', dpi=300, bbox_inches='tight')\n",
    "    plt.close()"
   ],
   "id": "ed7e36fbd1c9e38c",
   "outputs": [],
   "execution_count": 21
  },
  {
   "metadata": {
    "ExecuteTime": {
     "end_time": "2025-09-05T14:19:23.317597Z",
     "start_time": "2025-09-05T14:19:21.768953Z"
    }
   },
   "cell_type": "code",
   "source": [
    "# do the above but plot them individually\n",
    "\n",
    "if not update:\n",
    "    for i in range(0, len(hpol_up) - 1):\n",
    "        net_up = hpol_up[i + 1]\n",
    "        net_down = hpol_down[i]\n",
    "        name_down = net_down['name'][5:]  # remove the Aug4_ part of the name\n",
    "        name_up = net_up['name'][5:]  # remove the Aug4_ part of the name\n",
    "\n",
    "        plt.figure(figsize=(10, 6))\n",
    "        plt.plot(net_down['frequency'], net_down['smoothed_RVEL'], label=net_down['name'] + ' RVEL Down (smoothed)', linewidth=1, color='red')\n",
    "        plt.plot(net_up['frequency'], net_up['smoothed_RVEL'], label=net_up['name'] + ' RVEL Up (smoothed)', linewidth=1, color='blue')\n",
    "        # plot the NuRadioMC RVELs\n",
    "        NuRadio_VELS = NuRadio_VELS_dict['RNOG hpol v4.8in center n=1.74']\n",
    "        plt.plot(ff / units.Hz, np.abs(NuRadio_VELS['phi']), label='NuRadioMC RVELS', linewidth=1)\n",
    "        plt.title(f'RVEL for {name_down} and {name_up}')\n",
    "        plt.xlabel('Frequency (Hz)')\n",
    "        plt.ylabel('RVEL (m)')\n",
    "        plt.xlim(0, 1e9)\n",
    "        plt.ylim(0, 0.12)  # Set y-axis limits to focus on the RVEL\n",
    "        plt.grid()\n",
    "        plt.legend()\n",
    "        plt.tight_layout()\n",
    "        plt.savefig(f'{dir}/hpol up vs down_RVEL_overlay_{name_down}.pdf', dpi=300, bbox_inches='tight')\n",
    "        plt.close()"
   ],
   "id": "2f3cee31f5128447",
   "outputs": [],
   "execution_count": 22
  }
 ],
 "metadata": {
  "kernelspec": {
   "display_name": "Python 3",
   "language": "python",
   "name": "python3"
  },
  "language_info": {
   "codemirror_mode": {
    "name": "ipython",
    "version": 2
   },
   "file_extension": ".py",
   "mimetype": "text/x-python",
   "name": "python",
   "nbconvert_exporter": "python",
   "pygments_lexer": "ipython2",
   "version": "2.7.6"
  }
 },
 "nbformat": 4,
 "nbformat_minor": 5
}
