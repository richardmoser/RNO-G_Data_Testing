{
 "cells": [
  {
   "cell_type": "code",
   "id": "initial_id",
   "metadata": {
    "collapsed": true,
    "ExecuteTime": {
     "end_time": "2025-08-13T17:40:06.278288Z",
     "start_time": "2025-08-13T17:40:04.124408Z"
    }
   },
   "source": [
    "import skrf as rf\n",
    "import matplotlib.pyplot as plt\n",
    "import numpy as np\n",
    "from scipy.ndimage import gaussian_filter1d"
   ],
   "outputs": [],
   "execution_count": 1
  },
  {
   "metadata": {
    "ExecuteTime": {
     "end_time": "2025-08-13T18:01:14.296465Z",
     "start_time": "2025-08-13T18:01:14.291465Z"
    }
   },
   "cell_type": "code",
   "source": [
    "# import all the s2p files in Data/Port1inNWhole_Port2inShole_ST35_HPOL_VNA\n",
    "import os\n",
    "import glob\n",
    "path = 'Data/Port1inNWhole_Port2inShole_ST35_HPOL_VNA'\n",
    "s2p_files = glob.glob(os.path.join(path, '*.s2p'))"
   ],
   "id": "c973a60ae4ded780",
   "outputs": [],
   "execution_count": 18
  },
  {
   "metadata": {
    "ExecuteTime": {
     "end_time": "2025-08-13T18:01:15.557246Z",
     "start_time": "2025-08-13T18:01:14.668552Z"
    }
   },
   "cell_type": "code",
   "source": [
    "# Load all s2p files into a list of Network objects\n",
    "networks = [rf.Network(file) for file in s2p_files]"
   ],
   "id": "84a18e8922fcf6d4",
   "outputs": [],
   "execution_count": 19
  },
  {
   "metadata": {
    "ExecuteTime": {
     "end_time": "2025-08-13T18:01:15.587037Z",
     "start_time": "2025-08-13T18:01:15.572042Z"
    }
   },
   "cell_type": "code",
   "source": [
    "# smooth the S12 parameter for each network using a Gaussian filter\n",
    "sigma = 5.0  # Standard deviation for Gaussian kernel\n",
    "for net in networks:\n",
    "    net.s[:, 1, 0] = gaussian_filter1d(net.s[:, 1, 0].real, sigma=sigma) + 1j * gaussian_filter1d(net.s[:, 1, 0].imag, sigma=sigma)\n"
   ],
   "id": "2bd8a9f18d060d4e",
   "outputs": [],
   "execution_count": 20
  },
  {
   "metadata": {
    "ExecuteTime": {
     "end_time": "2025-08-13T18:08:45.049764Z",
     "start_time": "2025-08-13T18:08:44.963580Z"
    }
   },
   "cell_type": "code",
   "source": [
    "# plot the S12 parameter for all networks and save the figure as a PNG file named after the file it corresponds to\n",
    "dir = 'My S12/'\n",
    "for net in networks:\n",
    "    if net.name == 'Aug4_hpol_down_1m':\n",
    "        print(net.name)\n",
    "        plt.figure(figsize=(10, 6))\n",
    "        plt.plot(net.f, 20 * np.log10(np.abs(net.s[:, 1, 0])), label=net.name)\n",
    "        plt.title(f'S12 Parameter for {net.name}')\n",
    "        plt.xlabel('Frequency (Hz)')\n",
    "        plt.ylabel('S12 (dB)')\n",
    "        plt.grid()\n",
    "        plt.legend()\n",
    "        plt.savefig(f'{dir}{net.name[5:]}.png')\n",
    "        plt.close()"
   ],
   "id": "d9a2543dfa4c8315",
   "outputs": [
    {
     "name": "stdout",
     "output_type": "stream",
     "text": [
      "Aug4_hpol_down_1m\n"
     ]
    }
   ],
   "execution_count": 27
  },
  {
   "metadata": {
    "ExecuteTime": {
     "end_time": "2025-08-13T17:48:25.801203Z",
     "start_time": "2025-08-13T17:48:25.798379Z"
    }
   },
   "cell_type": "code",
   "source": "",
   "id": "34b41b69f6bbb5ac",
   "outputs": [],
   "execution_count": null
  },
  {
   "metadata": {
    "ExecuteTime": {
     "end_time": "2025-08-13T17:48:26.332050Z",
     "start_time": "2025-08-13T17:48:26.329048Z"
    }
   },
   "cell_type": "code",
   "source": "",
   "id": "9f92eccf7fd58fb6",
   "outputs": [],
   "execution_count": null
  },
  {
   "metadata": {},
   "cell_type": "code",
   "outputs": [],
   "execution_count": null,
   "source": "",
   "id": "a7da59f3df8965c4"
  }
 ],
 "metadata": {
  "kernelspec": {
   "display_name": "Python 3",
   "language": "python",
   "name": "python3"
  },
  "language_info": {
   "codemirror_mode": {
    "name": "ipython",
    "version": 2
   },
   "file_extension": ".py",
   "mimetype": "text/x-python",
   "name": "python",
   "nbconvert_exporter": "python",
   "pygments_lexer": "ipython2",
   "version": "2.7.6"
  }
 },
 "nbformat": 4,
 "nbformat_minor": 5
}
